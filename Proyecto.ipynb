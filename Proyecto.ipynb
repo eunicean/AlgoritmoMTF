{
 "cells": [
  {
   "cell_type": "markdown",
   "id": "d436c10d",
   "metadata": {},
   "source": [
    "# Algoritmo MTF\n",
    "### Proyecto 2"
   ]
  },
  {
   "cell_type": "markdown",
   "id": "fe027a44",
   "metadata": {},
   "source": [
    "#### Algoritmo MTF para cualquier configuración y sequecia"
   ]
  },
  {
   "cell_type": "code",
   "execution_count": 8,
   "id": "1bcef4b1",
   "metadata": {},
   "outputs": [],
   "source": [
    "def mtf(config_list, request_sequence, details=False):\n",
    "    \"\"\"\n",
    "    Implementación del algoritmo Move to Front (MTF)\n",
    "    \n",
    "    Args:\n",
    "        config_list (list): Lista de configuración inicial\n",
    "        request_sequence (list): Secuencia de solicitudes\n",
    "        details (bool): Si True, imprime detalles de cada paso\n",
    "        \n",
    "    Returns:\n",
    "        tuple: (costo_total, config_list_final)\n",
    "    \"\"\"\n",
    "    cost = 0\n",
    "    current_config = config_list.copy()\n",
    "    \n",
    "    if details:\n",
    "        print(\"Configuración inicial:\", current_config)\n",
    "    \n",
    "    for request in request_sequence:\n",
    "        # Encontrar la posición del elemento solicitado\n",
    "        try:\n",
    "            pos = current_config.index(request)\n",
    "        except ValueError:\n",
    "            raise ValueError(f\"Elemento {request} no encontrado en la lista de configuración\")\n",
    "        \n",
    "        # El costo es la posición + 1 (ya que empieza en 0)\n",
    "        request_cost = pos + 1\n",
    "        cost += request_cost\n",
    "        \n",
    "        # Mover el elemento al frente\n",
    "        if pos != 0:\n",
    "            current_config.pop(pos)\n",
    "            current_config.insert(0, request)\n",
    "        \n",
    "        if details:\n",
    "            print(f\"Solicitud: {request}  -  Costo: {request_cost}  -  Configuración: {current_config}\")\n",
    "    \n",
    "    if details:\n",
    "        print(\"Costo total de acceso:\", cost)\n",
    "    \n",
    "    return cost, current_config"
   ]
  },
  {
   "cell_type": "markdown",
   "id": "3bbc6541",
   "metadata": {},
   "source": [
    "#### Sección A"
   ]
  },
  {
   "cell_type": "code",
   "execution_count": 9,
   "id": "972b1272",
   "metadata": {},
   "outputs": [
    {
     "name": "stdout",
     "output_type": "stream",
     "text": [
      "Configuración inicial: [0, 1, 2, 3, 4]\n",
      "Secuencia de solicitudes: [0, 1, 2, 3, 4, 0, 1, 2, 3, 4, 0, 1, 2, 3, 4, 0, 1, 2, 3, 4]\n",
      "\n",
      "Ejecutando MTF:\n",
      "Configuración inicial: [0, 1, 2, 3, 4]\n",
      "Solicitud: 0  -  Costo: 1  -  Configuración: [0, 1, 2, 3, 4]\n",
      "Solicitud: 1  -  Costo: 2  -  Configuración: [1, 0, 2, 3, 4]\n",
      "Solicitud: 2  -  Costo: 3  -  Configuración: [2, 1, 0, 3, 4]\n",
      "Solicitud: 3  -  Costo: 4  -  Configuración: [3, 2, 1, 0, 4]\n",
      "Solicitud: 4  -  Costo: 5  -  Configuración: [4, 3, 2, 1, 0]\n",
      "Solicitud: 0  -  Costo: 5  -  Configuración: [0, 4, 3, 2, 1]\n",
      "Solicitud: 1  -  Costo: 5  -  Configuración: [1, 0, 4, 3, 2]\n",
      "Solicitud: 2  -  Costo: 5  -  Configuración: [2, 1, 0, 4, 3]\n",
      "Solicitud: 3  -  Costo: 5  -  Configuración: [3, 2, 1, 0, 4]\n",
      "Solicitud: 4  -  Costo: 5  -  Configuración: [4, 3, 2, 1, 0]\n",
      "Solicitud: 0  -  Costo: 5  -  Configuración: [0, 4, 3, 2, 1]\n",
      "Solicitud: 1  -  Costo: 5  -  Configuración: [1, 0, 4, 3, 2]\n",
      "Solicitud: 2  -  Costo: 5  -  Configuración: [2, 1, 0, 4, 3]\n",
      "Solicitud: 3  -  Costo: 5  -  Configuración: [3, 2, 1, 0, 4]\n",
      "Solicitud: 4  -  Costo: 5  -  Configuración: [4, 3, 2, 1, 0]\n",
      "Solicitud: 0  -  Costo: 5  -  Configuración: [0, 4, 3, 2, 1]\n",
      "Solicitud: 1  -  Costo: 5  -  Configuración: [1, 0, 4, 3, 2]\n",
      "Solicitud: 2  -  Costo: 5  -  Configuración: [2, 1, 0, 4, 3]\n",
      "Solicitud: 3  -  Costo: 5  -  Configuración: [3, 2, 1, 0, 4]\n",
      "Solicitud: 4  -  Costo: 5  -  Configuración: [4, 3, 2, 1, 0]\n",
      "Costo total de acceso: 90\n",
      "\n",
      "Costo total de acceso: 90\n"
     ]
    }
   ],
   "source": [
    "config_list = [0, 1, 2, 3, 4]\n",
    "s = \"0, 1, 2, 3, 4, 0, 1, 2, 3, 4, 0, 1, 2, 3, 4, 0, 1, 2, 3, 4\"\n",
    "request_sequence = list(map(int, s.split(\",\")))\n",
    "\n",
    "print(\"Configuración inicial:\", config_list)\n",
    "print(\"Secuencia de solicitudes:\", request_sequence)\n",
    "print(\"\\nEjecutando MTF:\")\n",
    "\n",
    "total_cost, current_config = mtf(config_list, request_sequence, True)\n",
    "\n",
    "print(\"\\nCosto total de acceso:\", total_cost)"
   ]
  },
  {
   "cell_type": "markdown",
   "id": "ec4421e6",
   "metadata": {},
   "source": [
    "#### Sección B"
   ]
  },
  {
   "cell_type": "code",
   "execution_count": 10,
   "id": "baf7af91",
   "metadata": {},
   "outputs": [
    {
     "name": "stdout",
     "output_type": "stream",
     "text": [
      "Configuración inicial: [0, 1, 2, 3, 4]\n",
      "Secuencia de solicitudes: [4, 3, 2, 1, 0, 1, 2, 3, 4, 3, 2, 1, 0, 1, 2, 3, 4]\n",
      "\n",
      "Ejecutando MTF:\n",
      "Configuración inicial: [0, 1, 2, 3, 4]\n",
      "Solicitud: 4  -  Costo: 5  -  Configuración: [4, 0, 1, 2, 3]\n",
      "Solicitud: 3  -  Costo: 5  -  Configuración: [3, 4, 0, 1, 2]\n",
      "Solicitud: 2  -  Costo: 5  -  Configuración: [2, 3, 4, 0, 1]\n",
      "Solicitud: 1  -  Costo: 5  -  Configuración: [1, 2, 3, 4, 0]\n",
      "Solicitud: 0  -  Costo: 5  -  Configuración: [0, 1, 2, 3, 4]\n",
      "Solicitud: 1  -  Costo: 2  -  Configuración: [1, 0, 2, 3, 4]\n",
      "Solicitud: 2  -  Costo: 3  -  Configuración: [2, 1, 0, 3, 4]\n",
      "Solicitud: 3  -  Costo: 4  -  Configuración: [3, 2, 1, 0, 4]\n",
      "Solicitud: 4  -  Costo: 5  -  Configuración: [4, 3, 2, 1, 0]\n",
      "Solicitud: 3  -  Costo: 2  -  Configuración: [3, 4, 2, 1, 0]\n",
      "Solicitud: 2  -  Costo: 3  -  Configuración: [2, 3, 4, 1, 0]\n",
      "Solicitud: 1  -  Costo: 4  -  Configuración: [1, 2, 3, 4, 0]\n",
      "Solicitud: 0  -  Costo: 5  -  Configuración: [0, 1, 2, 3, 4]\n",
      "Solicitud: 1  -  Costo: 2  -  Configuración: [1, 0, 2, 3, 4]\n",
      "Solicitud: 2  -  Costo: 3  -  Configuración: [2, 1, 0, 3, 4]\n",
      "Solicitud: 3  -  Costo: 4  -  Configuración: [3, 2, 1, 0, 4]\n",
      "Solicitud: 4  -  Costo: 5  -  Configuración: [4, 3, 2, 1, 0]\n",
      "Costo total de acceso: 67\n",
      "\n",
      "Costo total de acceso: 67\n"
     ]
    }
   ],
   "source": [
    "config_list = [0, 1, 2, 3, 4]\n",
    "s = \"4, 3, 2, 1, 0, 1, 2, 3, 4, 3, 2, 1, 0, 1, 2, 3, 4\"\n",
    "request_sequence = list(map(int, s.split(\",\")))\n",
    "\n",
    "print(\"Configuración inicial:\", config_list)\n",
    "print(\"Secuencia de solicitudes:\", request_sequence)\n",
    "print(\"\\nEjecutando MTF:\")\n",
    "\n",
    "total_cost, current_config = mtf(config_list, request_sequence, True)\n",
    "\n",
    "print(\"\\nCosto total de acceso:\", total_cost)"
   ]
  },
  {
   "cell_type": "markdown",
   "id": "07f992e3",
   "metadata": {},
   "source": [
    "#### Sección C\n",
    "\n",
    "El mejor caso es cuando siempre se solicitaría el primer elemento de la lista, si se piden 20 valores, el costo ideal debería de ser 1."
   ]
  },
  {
   "cell_type": "code",
   "execution_count": null,
   "id": "cb87e496",
   "metadata": {},
   "outputs": [
    {
     "name": "stdout",
     "output_type": "stream",
     "text": [
      "Configuración inicial: [0, 1, 2, 3, 4]\n",
      "Secuencia de solicitudes (mejor caso): [0, 0, 0, 0, 0, 0, 0, 0, 0, 0, 0, 0, 0, 0, 0, 0, 0, 0, 0, 0]\n",
      "Configuración inicial: [0, 1, 2, 3, 4]\n",
      "Solicitud: 0  -  Costo: 1  -  Configuración: [0, 1, 2, 3, 4]\n",
      "Solicitud: 0  -  Costo: 1  -  Configuración: [0, 1, 2, 3, 4]\n",
      "Solicitud: 0  -  Costo: 1  -  Configuración: [0, 1, 2, 3, 4]\n",
      "Solicitud: 0  -  Costo: 1  -  Configuración: [0, 1, 2, 3, 4]\n",
      "Solicitud: 0  -  Costo: 1  -  Configuración: [0, 1, 2, 3, 4]\n",
      "Solicitud: 0  -  Costo: 1  -  Configuración: [0, 1, 2, 3, 4]\n",
      "Solicitud: 0  -  Costo: 1  -  Configuración: [0, 1, 2, 3, 4]\n",
      "Solicitud: 0  -  Costo: 1  -  Configuración: [0, 1, 2, 3, 4]\n",
      "Solicitud: 0  -  Costo: 1  -  Configuración: [0, 1, 2, 3, 4]\n",
      "Solicitud: 0  -  Costo: 1  -  Configuración: [0, 1, 2, 3, 4]\n",
      "Solicitud: 0  -  Costo: 1  -  Configuración: [0, 1, 2, 3, 4]\n",
      "Solicitud: 0  -  Costo: 1  -  Configuración: [0, 1, 2, 3, 4]\n",
      "Solicitud: 0  -  Costo: 1  -  Configuración: [0, 1, 2, 3, 4]\n",
      "Solicitud: 0  -  Costo: 1  -  Configuración: [0, 1, 2, 3, 4]\n",
      "Solicitud: 0  -  Costo: 1  -  Configuración: [0, 1, 2, 3, 4]\n",
      "Solicitud: 0  -  Costo: 1  -  Configuración: [0, 1, 2, 3, 4]\n",
      "Solicitud: 0  -  Costo: 1  -  Configuración: [0, 1, 2, 3, 4]\n",
      "Solicitud: 0  -  Costo: 1  -  Configuración: [0, 1, 2, 3, 4]\n",
      "Solicitud: 0  -  Costo: 1  -  Configuración: [0, 1, 2, 3, 4]\n",
      "Solicitud: 0  -  Costo: 1  -  Configuración: [0, 1, 2, 3, 4]\n",
      "Costo total de acceso: 20\n",
      "Costo total de acceso (mejor caso): 20\n"
     ]
    }
   ],
   "source": [
    "config_list = [0, 1, 2, 3, 4]\n",
    "request_sequence = [0] * 20\n",
    "\n",
    "print(\"Configuración inicial:\", config_list)\n",
    "print(\"Secuencia de solicitudes (mejor caso):\", request_sequence)\n",
    "\n",
    "total_cost, current_config = mtf(config_list, request_sequence, True)\n",
    "# total_cost, current_config = mtf(config_list, request_sequence)\n",
    "\n",
    "print(\"Costo total de acceso (mejor caso):\", total_cost)\n"
   ]
  },
  {
   "cell_type": "markdown",
   "id": "6cb49916",
   "metadata": {},
   "source": [
    "#### Sección d\n",
    "\n",
    "El peor caso sería que se pida el último elemento en la configuración después de haber sido modificada.\n",
    "\n",
    "Para la configuración 0,1,2,3,4, el peor caso sería 4,3,2,1,0,4,3,2,1,0,4,3,2,1,0,4,3,2,1,0 (20 elementos)"
   ]
  },
  {
   "cell_type": "code",
   "execution_count": 18,
   "id": "d8169526",
   "metadata": {},
   "outputs": [
    {
     "name": "stdout",
     "output_type": "stream",
     "text": [
      "Configuración inicial: [0, 1, 2, 3, 4]\n",
      "Secuencia de solicitudes (peor caso): [4, 3, 2, 1, 0, 4, 3, 2, 1, 0, 4, 3, 2, 1, 0, 4, 3, 2, 1, 0]\n",
      "Configuración inicial: [0, 1, 2, 3, 4]\n",
      "Solicitud: 4  -  Costo: 5  -  Configuración: [4, 0, 1, 2, 3]\n",
      "Solicitud: 3  -  Costo: 5  -  Configuración: [3, 4, 0, 1, 2]\n",
      "Solicitud: 2  -  Costo: 5  -  Configuración: [2, 3, 4, 0, 1]\n",
      "Solicitud: 1  -  Costo: 5  -  Configuración: [1, 2, 3, 4, 0]\n",
      "Solicitud: 0  -  Costo: 5  -  Configuración: [0, 1, 2, 3, 4]\n",
      "Solicitud: 4  -  Costo: 5  -  Configuración: [4, 0, 1, 2, 3]\n",
      "Solicitud: 3  -  Costo: 5  -  Configuración: [3, 4, 0, 1, 2]\n",
      "Solicitud: 2  -  Costo: 5  -  Configuración: [2, 3, 4, 0, 1]\n",
      "Solicitud: 1  -  Costo: 5  -  Configuración: [1, 2, 3, 4, 0]\n",
      "Solicitud: 0  -  Costo: 5  -  Configuración: [0, 1, 2, 3, 4]\n",
      "Solicitud: 4  -  Costo: 5  -  Configuración: [4, 0, 1, 2, 3]\n",
      "Solicitud: 3  -  Costo: 5  -  Configuración: [3, 4, 0, 1, 2]\n",
      "Solicitud: 2  -  Costo: 5  -  Configuración: [2, 3, 4, 0, 1]\n",
      "Solicitud: 1  -  Costo: 5  -  Configuración: [1, 2, 3, 4, 0]\n",
      "Solicitud: 0  -  Costo: 5  -  Configuración: [0, 1, 2, 3, 4]\n",
      "Solicitud: 4  -  Costo: 5  -  Configuración: [4, 0, 1, 2, 3]\n",
      "Solicitud: 3  -  Costo: 5  -  Configuración: [3, 4, 0, 1, 2]\n",
      "Solicitud: 2  -  Costo: 5  -  Configuración: [2, 3, 4, 0, 1]\n",
      "Solicitud: 1  -  Costo: 5  -  Configuración: [1, 2, 3, 4, 0]\n",
      "Solicitud: 0  -  Costo: 5  -  Configuración: [0, 1, 2, 3, 4]\n",
      "Costo total de acceso: 100\n",
      "Costo total de acceso (peor caso): 100\n"
     ]
    }
   ],
   "source": [
    "config_list = [0, 1, 2, 3, 4]\n",
    "request_sequence = [4,3,2,1,0] * 4\n",
    "\n",
    "print(\"Configuración inicial:\", config_list)\n",
    "print(\"Secuencia de solicitudes (peor caso):\", request_sequence)\n",
    "\n",
    "total_cost, current_config = mtf(config_list, request_sequence, True)\n",
    "# total_cost, current_config = mtf(config_list, request_sequence)\n",
    "\n",
    "print(\"Costo total de acceso (peor caso):\", total_cost)"
   ]
  },
  {
   "cell_type": "markdown",
   "id": "bcf84548",
   "metadata": {},
   "source": [
    "Sección E"
   ]
  },
  {
   "cell_type": "code",
   "execution_count": 19,
   "id": "0b166dc5",
   "metadata": {},
   "outputs": [
    {
     "name": "stdout",
     "output_type": "stream",
     "text": [
      "Configuración inicial: [0, 1, 2, 3, 4]\n",
      "Secuencia de solicitudes: [2, 2, 2, 2, 2, 2, 2, 2, 2, 2, 2, 2, 2, 2, 2, 2, 2, 2, 2, 2]\n",
      "\n",
      "Ejecutando MTF:\n",
      "Configuración inicial: [0, 1, 2, 3, 4]\n",
      "Solicitud: 2  -  Costo: 3  -  Configuración: [2, 0, 1, 3, 4]\n",
      "Solicitud: 2  -  Costo: 1  -  Configuración: [2, 0, 1, 3, 4]\n",
      "Solicitud: 2  -  Costo: 1  -  Configuración: [2, 0, 1, 3, 4]\n",
      "Solicitud: 2  -  Costo: 1  -  Configuración: [2, 0, 1, 3, 4]\n",
      "Solicitud: 2  -  Costo: 1  -  Configuración: [2, 0, 1, 3, 4]\n",
      "Solicitud: 2  -  Costo: 1  -  Configuración: [2, 0, 1, 3, 4]\n",
      "Solicitud: 2  -  Costo: 1  -  Configuración: [2, 0, 1, 3, 4]\n",
      "Solicitud: 2  -  Costo: 1  -  Configuración: [2, 0, 1, 3, 4]\n",
      "Solicitud: 2  -  Costo: 1  -  Configuración: [2, 0, 1, 3, 4]\n",
      "Solicitud: 2  -  Costo: 1  -  Configuración: [2, 0, 1, 3, 4]\n",
      "Solicitud: 2  -  Costo: 1  -  Configuración: [2, 0, 1, 3, 4]\n",
      "Solicitud: 2  -  Costo: 1  -  Configuración: [2, 0, 1, 3, 4]\n",
      "Solicitud: 2  -  Costo: 1  -  Configuración: [2, 0, 1, 3, 4]\n",
      "Solicitud: 2  -  Costo: 1  -  Configuración: [2, 0, 1, 3, 4]\n",
      "Solicitud: 2  -  Costo: 1  -  Configuración: [2, 0, 1, 3, 4]\n",
      "Solicitud: 2  -  Costo: 1  -  Configuración: [2, 0, 1, 3, 4]\n",
      "Solicitud: 2  -  Costo: 1  -  Configuración: [2, 0, 1, 3, 4]\n",
      "Solicitud: 2  -  Costo: 1  -  Configuración: [2, 0, 1, 3, 4]\n",
      "Solicitud: 2  -  Costo: 1  -  Configuración: [2, 0, 1, 3, 4]\n",
      "Solicitud: 2  -  Costo: 1  -  Configuración: [2, 0, 1, 3, 4]\n",
      "Costo total de acceso: 22\n",
      "\n",
      "Costo total de acceso: 22\n"
     ]
    }
   ],
   "source": [
    "config_list = [0, 1, 2, 3, 4]\n",
    "s = \"2, 2, 2, 2, 2, 2, 2, 2, 2, 2, 2, 2, 2, 2, 2, 2, 2, 2, 2, 2\"\n",
    "request_sequence = list(map(int, s.split(\",\")))\n",
    "\n",
    "print(\"Configuración inicial:\", config_list)\n",
    "print(\"Secuencia de solicitudes:\", request_sequence)\n",
    "print(\"\\nEjecutando MTF:\")\n",
    "\n",
    "total_cost, current_config = mtf(config_list, request_sequence, True)\n",
    "\n",
    "print(\"\\nCosto total de acceso:\", total_cost)"
   ]
  },
  {
   "cell_type": "code",
   "execution_count": 22,
   "id": "879ddeab",
   "metadata": {},
   "outputs": [
    {
     "name": "stdout",
     "output_type": "stream",
     "text": [
      "Configuración inicial: [0, 1, 2, 3, 4]\n",
      "Secuencia de solicitudes: [3, 3, 3, 3, 3, 3, 3, 3, 3, 3, 3, 3, 3, 3, 3, 3, 3, 3, 3, 3]\n",
      "\n",
      "Ejecutando MTF:\n",
      "Configuración inicial: [0, 1, 2, 3, 4]\n",
      "Solicitud: 3  -  Costo: 4  -  Configuración: [3, 0, 1, 2, 4]\n",
      "Solicitud: 3  -  Costo: 1  -  Configuración: [3, 0, 1, 2, 4]\n",
      "Solicitud: 3  -  Costo: 1  -  Configuración: [3, 0, 1, 2, 4]\n",
      "Solicitud: 3  -  Costo: 1  -  Configuración: [3, 0, 1, 2, 4]\n",
      "Solicitud: 3  -  Costo: 1  -  Configuración: [3, 0, 1, 2, 4]\n",
      "Solicitud: 3  -  Costo: 1  -  Configuración: [3, 0, 1, 2, 4]\n",
      "Solicitud: 3  -  Costo: 1  -  Configuración: [3, 0, 1, 2, 4]\n",
      "Solicitud: 3  -  Costo: 1  -  Configuración: [3, 0, 1, 2, 4]\n",
      "Solicitud: 3  -  Costo: 1  -  Configuración: [3, 0, 1, 2, 4]\n",
      "Solicitud: 3  -  Costo: 1  -  Configuración: [3, 0, 1, 2, 4]\n",
      "Solicitud: 3  -  Costo: 1  -  Configuración: [3, 0, 1, 2, 4]\n",
      "Solicitud: 3  -  Costo: 1  -  Configuración: [3, 0, 1, 2, 4]\n",
      "Solicitud: 3  -  Costo: 1  -  Configuración: [3, 0, 1, 2, 4]\n",
      "Solicitud: 3  -  Costo: 1  -  Configuración: [3, 0, 1, 2, 4]\n",
      "Solicitud: 3  -  Costo: 1  -  Configuración: [3, 0, 1, 2, 4]\n",
      "Solicitud: 3  -  Costo: 1  -  Configuración: [3, 0, 1, 2, 4]\n",
      "Solicitud: 3  -  Costo: 1  -  Configuración: [3, 0, 1, 2, 4]\n",
      "Solicitud: 3  -  Costo: 1  -  Configuración: [3, 0, 1, 2, 4]\n",
      "Solicitud: 3  -  Costo: 1  -  Configuración: [3, 0, 1, 2, 4]\n",
      "Solicitud: 3  -  Costo: 1  -  Configuración: [3, 0, 1, 2, 4]\n",
      "Costo total de acceso: 23\n",
      "\n",
      "Costo total de acceso: 23\n"
     ]
    }
   ],
   "source": [
    "config_list = [0, 1, 2, 3, 4]\n",
    "s = \"3, 3, 3, 3, 3, 3, 3, 3, 3, 3, 3, 3, 3, 3, 3, 3, 3, 3, 3, 3 \"\n",
    "request_sequence = list(map(int, s.split(\",\")))\n",
    "\n",
    "print(\"Configuración inicial:\", config_list)\n",
    "print(\"Secuencia de solicitudes:\", request_sequence)\n",
    "print(\"\\nEjecutando MTF:\")\n",
    "\n",
    "total_cost, current_config = mtf(config_list, request_sequence, True)\n",
    "\n",
    "print(\"\\nCosto total de acceso:\", total_cost)"
   ]
  },
  {
   "cell_type": "markdown",
   "id": "f692d40b",
   "metadata": {},
   "source": [
    "Cuando hay una repetición de un mismo elemento en la sequecia de solicitud se puede ver que: el primer acceso tiene costo igual a la posición del elemento + 1, y que todos los accesos que le siguen tienen costo 1, ya que el elemento queda al frente en la configuración modificada.\n",
    "- Para la cadena 2, 2, 2, 2, 2, 2, 2, 2, 2, 2, 2, 2, 2, 2, 2, 2, 2, 2, 2, 2, el costo total fue: 22.\n",
    "- Para la cadena 3, 3, 3, 3, 3, 3, 3, 3, 3, 3, 3, 3, 3, 3, 3, 3, 3, 3, 3, 3, el costo total fue: 23\n",
    "\n",
    "Por lo que, para n elementos, en donde todos son el mismo carácter, en posición i, el costo total seria: (i+1) + (n-1)*1."
   ]
  }
 ],
 "metadata": {
  "kernelspec": {
   "display_name": "Python 3",
   "language": "python",
   "name": "python3"
  },
  "language_info": {
   "codemirror_mode": {
    "name": "ipython",
    "version": 3
   },
   "file_extension": ".py",
   "mimetype": "text/x-python",
   "name": "python",
   "nbconvert_exporter": "python",
   "pygments_lexer": "ipython3",
   "version": "3.12.4"
  }
 },
 "nbformat": 4,
 "nbformat_minor": 5
}
